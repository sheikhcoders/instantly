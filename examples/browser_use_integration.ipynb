{
 "cells": [
  {
   "cell_type": "markdown",
   "metadata": {},
   "source": [
    "# Integrating `instantly` with `browser-use`\n",
    "\n",
    "This notebook demonstrates how to use the `instantly` library with `browser-use` to automate web tasks."
   ]
  },
  {
   "cell_type": "code",
   "execution_count": null,
   "metadata": {},
   "outputs": [],
   "source": [
    "!pip install -qU instantly browser-use langchain"
   ]
  },
  {
   "cell_type": "code",
   "execution_count": null,
   "metadata": {},
   "outputs": [],
   "source": [
    "import os\n",
    "from browser_use import Agent\n",
    "from instantly.integrations.langchain import InstantlyGoogleChat, InstantlyOpenAIChat\n",
    "\n",
    "# Set your API keys as environment variables\n",
    "# os.environ[\"GOOGLE_API_KEY\"] = \"YOUR_GOOGLE_API_KEY\"\n",
    "# os.environ[\"HF_TOKEN\"] = \"YOUR_HF_TOKEN\""
   ]
  },
  {
   "cell_type": "markdown",
   "metadata": {},
   "source": [
    "## Using the InstantlyGoogleChat Model"
   ]
  },
  {
   "cell_type": "code",
   "execution_count": null,
   "metadata": {},
   "outputs": [],
   "source": [
    "async def run_google_agent():\n",
    "    if not os.environ.get(\"GOOGLE_API_KEY\"):\n",
    "        print(\"GOOGLE_API_KEY not set, skipping Google agent test.\")\n",
    "        return\n",
    "\n",
    "    llm = InstantlyGoogleChat(model=\"gemini-1.5-flash\")\n",
    "    agent = Agent(\n",
    "        task=\"Search for the latest news about AI\",\n",
    "        llm=llm,\n",
    "    )\n",
    "    await agent.run()\n",
    "\n",
    "await run_google_agent()"
   ]
  },
  {
   "cell_type": "markdown",
   "metadata": {},
   "source": [
    "## Using the InstantlyOpenAIChat Model"
   ]
  },
  {
   "cell_type": "code",
   "execution_count": null,
   "metadata": {},
   "outputs": [],
   "source": [
    "async def run_openai_agent():\n",
    "    if not os.environ.get(\"HF_TOKEN\"):\n",
    "        print(\"HF_TOKEN not set, skipping OpenAI agent test.\")\n",
    "        return\n",
    "\n",
    "    llm = InstantlyOpenAIChat(model=\"moonshotai/Kimi-K2-Instruct\")\n",
    "    agent = Agent(\n",
    "        task=\"Search for the latest news about AI\",\n",
    "        llm=llm,\n",
    "    )\n",
    "    await agent.run()\n",
    "\n",
    "await run_openai_agent()"
   ]
  }
 ],
 "metadata": {
  "kernelspec": {
   "display_name": "Python 3",
   "language": "python",
   "name": "python3"
  },
  "language_info": {
   "codemirror_mode": {
    "name": "ipython",
    "version": 3
   },
   "file_extension": ".py",
   "mimetype": "text/x-python",
   "name": "python",
   "nbconvert_exporter": "python",
   "pygments_lexer": "ipython3",
   "version": "3.10.9"
  }
 },
 "nbformat": 4,
 "nbformat_minor": 4
}
